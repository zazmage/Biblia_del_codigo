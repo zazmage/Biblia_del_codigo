{
 "cells": [
  {
   "cell_type": "markdown",
   "metadata": {},
   "source": [
    "----\n",
    "# Taller 1 - Python básico - Solucionario\n",
    "----"
   ]
  },
  {
   "cell_type": "markdown",
   "metadata": {},
   "source": [
    "\n",
    "Responde a las preguntas formuladas o completa las tareas indicadas en negrita debajo, utilizar el método indicado si aplica.\n"
   ]
  },
  {
   "cell_type": "markdown",
   "metadata": {},
   "source": [
    "# Ejercicios\n",
    "\n",
    " \n",
    "   \n",
    "    \n",
    "\n",
    "**Evalúa con Python cuánto es 7 elevado a 4 (0.25 puntos)**"
   ]
  },
  {
   "cell_type": "code",
   "execution_count": 3,
   "metadata": {},
   "outputs": [
    {
     "data": {
      "text/plain": [
       "2401"
      ]
     },
     "execution_count": 3,
     "metadata": {},
     "output_type": "execute_result"
    }
   ],
   "source": [
    "7**4"
   ]
  },
  {
   "cell_type": "markdown",
   "metadata": {},
   "source": [
    "**Convierte el string** s = \"Hola, Pedro ¿que tal?\" **en una lista. (0.25 puntos)**"
   ]
  },
  {
   "cell_type": "code",
   "execution_count": 16,
   "metadata": {
    "scrolled": true
   },
   "outputs": [
    {
     "name": "stdout",
     "output_type": "stream",
     "text": [
      "['H', 'o', 'l', 'a', ',', ' ', 'P', 'e', 'd', 'r', 'o', ' ', '¿', 'q', 'u', 'e', ' ', 't', 'a', 'l', '?']\n"
     ]
    }
   ],
   "source": [
    "s = \"Hola, Pedro ¿que tal?\" # Declaramos un string o cadena de caracteres en la variable s\n",
    "lista = [] # Definimos una lista vacía para almacenar la lista final\n",
    "\n",
    "for i in s: # Creamos un blucle que recorre la cadena de caracteres (s)\n",
    "    lista.append(i)\n",
    "    \n",
    "display(lista)"
   ]
  },
  {
   "cell_type": "markdown",
   "metadata": {},
   "source": [
    "**Dadas las variables:** planeta = \"Tierra\" **y** diametro = 12742 **, usa tres métodos diferentes (ej. .format(), una f'string, etc) para obtener el siguiente string:**  *El diametro de la Tierra es 12742 kilometros.* **(0.5 puntos)**"
   ]
  },
  {
   "cell_type": "code",
   "execution_count": 21,
   "metadata": {},
   "outputs": [
    {
     "name": "stdout",
     "output_type": "stream",
     "text": [
      "El diametro de la Tierra es de 12472 km\n",
      "El diametro de la Tierra es de 12472 km\n",
      "--------------------------------------------------\n",
      "El diametro de la Tierra es de 12742 km\n",
      "--------------------------------------------------\n"
     ]
    }
   ],
   "source": [
    "planeta=\"Tierra\"\n",
    "diametro=12472\n",
    "\n",
    "print(f\"El diametro de la {planeta} es de {diametro} km\")\n",
    "\n",
    "print(\"El diametro de la %s es de %d km\"%(planeta,diametro))\n",
    "\n",
    "print(50*'-')\n",
    "\n",
    "print(\"El diametro de la {} es de {} km\" .format(planeta,12742))\n",
    "\n",
    "print(50*'-')\n",
    "\n"
   ]
  },
  {
   "cell_type": "markdown",
   "metadata": {},
   "source": [
    "**Dada la lista** *lst,* **utiliza la indexación para obtener la palabra \"hola\" (0.25 puntos) y cambia el valor** *23* **por 25 (0.25 puntos)**"
   ]
  },
  {
   "cell_type": "code",
   "execution_count": 2,
   "metadata": {},
   "outputs": [],
   "source": [
    "lst = [1,2,[3,4],[5,[100,200,['hola']],23,11],1,7]"
   ]
  },
  {
   "cell_type": "code",
   "execution_count": 18,
   "metadata": {},
   "outputs": [
    {
     "data": {
      "text/plain": [
       "'hola'"
      ]
     },
     "execution_count": 18,
     "metadata": {},
     "output_type": "execute_result"
    }
   ],
   "source": [
    "lst[3][1][2][0]"
   ]
  },
  {
   "cell_type": "markdown",
   "metadata": {},
   "source": [
    "**Dado el siguiente diccionario anidado, obtener la palabra \"hola\" (0.25 puntos) y cambia** *mentira* **por** *verdad* **(0.25 puntos)**"
   ]
  },
  {
   "cell_type": "code",
   "execution_count": 19,
   "metadata": {},
   "outputs": [],
   "source": [
    "d = {'k1':[1,2,3,{'gracioso':['oh','no','mentira',{'destino':[1,2,3,'hola']}]}]}"
   ]
  },
  {
   "cell_type": "code",
   "execution_count": 29,
   "metadata": {
    "scrolled": true
   },
   "outputs": [
    {
     "data": {
      "text/plain": [
       "'hola'"
      ]
     },
     "execution_count": 29,
     "metadata": {},
     "output_type": "execute_result"
    }
   ],
   "source": [
    "d['k1'][3]['gracioso'][3]['destino'][3]"
   ]
  },
  {
   "cell_type": "code",
   "execution_count": 36,
   "metadata": {},
   "outputs": [
    {
     "data": {
      "text/plain": [
       "{'k1': [1,\n",
       "  2,\n",
       "  3,\n",
       "  {'gracioso': ['oh', 'no', 'verdad', {'destino': [1, 2, 3, 'hola']}]}]}"
      ]
     },
     "execution_count": 36,
     "metadata": {},
     "output_type": "execute_result"
    }
   ],
   "source": [
    "d['k1'][3]['gracioso'][2] = 'verdad'\n",
    "d"
   ]
  },
  {
   "cell_type": "markdown",
   "metadata": {},
   "source": [
    "**¿Cúal es la principal diferencia entre una tupla y una lista? (0.25 puntos). Pon un ejemplo de cada una (0.25 puntos)**"
   ]
  },
  {
   "cell_type": "code",
   "execution_count": 1,
   "metadata": {},
   "outputs": [
    {
     "name": "stdout",
     "output_type": "stream",
     "text": [
      "<class 'list'>\n",
      "--------------------------------------------------\n",
      "<class 'tuple'>\n"
     ]
    }
   ],
   "source": [
    "#la principal diferencia es que una tupla es inmutable, mientras que la lista se puede mutar.Esto significa que una vez se crea una tupla, ya no se podra modificar, la lista si se podra.\n",
    "lista=[1,8,'Alejandra','Google','33','Miami Heat','Jason Tatum']\n",
    "print(type(lista))\n",
    "print(50*'-')\n",
    "tupla=(1,3,5,7,9)\n",
    "print(type(tupla))"
   ]
  },
  {
   "cell_type": "markdown",
   "metadata": {},
   "source": [
    "**Crear una función que obtenga el dominio de una dirección de correo electrónico, por ejemplo, pasando** *user@domain.com* **debería devolver**  *domain.com* **(0.5 puntos)**"
   ]
  },
  {
   "cell_type": "code",
   "execution_count": 44,
   "metadata": {},
   "outputs": [
    {
     "name": "stdout",
     "output_type": "stream",
     "text": [
      "yahoo.com\n",
      "gmail.com\n"
     ]
    }
   ],
   "source": [
    "def dame_dominio(correo):\n",
    "    correo_separado = correo.split(\"@\")\n",
    "    return correo_separado[1]\n",
    "\n",
    "print(dame_dominio(\"usuario@yahoo.com\"))\n",
    "print(dame_dominio(\"mateo@gmail.com\"))"
   ]
  },
  {
   "cell_type": "markdown",
   "metadata": {},
   "source": [
    "**Escribir una función que devuelva** *True* **si la palabra** *'perro'* **se encuentra contenida dentro del string suministrado (Ten en cuenta también que puede estar en mayúsculas y/o minúsculas) (0.5 puntos)**"
   ]
  },
  {
   "cell_type": "code",
   "execution_count": 47,
   "metadata": {},
   "outputs": [
    {
     "name": "stdout",
     "output_type": "stream",
     "text": [
      "False\n"
     ]
    }
   ],
   "source": [
    "def dime_si_aparece_perro(frase):\n",
    "    if 'perro' in frase.lower():\n",
    "        return True\n",
    "    else:\n",
    "        return False\n",
    "\n",
    "print(dime_si_aparece_perro(\"Mi raza de gato favorito es el Pastor Aleman\"))"
   ]
  },
  {
   "cell_type": "markdown",
   "metadata": {},
   "source": [
    "**Utilizar una expersión lambda y el método filter() para filtrar las palabras de una lista que no comienzen con la letra 's'. Por ejemplo:** *secuencia = ['sarten', 'silla', 'gato', 'genial', 'pastilla'],*  **debería filtrarse a:** *['sarten', 'silla']* **(1 puntos)**"
   ]
  },
  {
   "cell_type": "code",
   "execution_count": 4,
   "metadata": {},
   "outputs": [
    {
     "data": {
      "text/plain": [
       "['sol', 'saludos']"
      ]
     },
     "execution_count": 4,
     "metadata": {},
     "output_type": "execute_result"
    }
   ],
   "source": [
    "secuencia=['hola','sol','saludos','NBA','Spoons','Sofia']\n",
    "\n",
    "def filtrado (x):\n",
    "    return x[0]=='s'\n",
    "\n",
    "list(filter(filtrado,secuencia))\n",
    "\n",
    "list(filter(lambda x:x[0]=='s', secuencia))\n",
    "\n",
    "# PENDIENTE\n",
    "\n",
    "\n"
   ]
  },
  {
   "cell_type": "markdown",
   "metadata": {},
   "source": [
    "**Escribe un programa que pida al usuario introducir una palabra por teclado y que genere un diccionario con a cantidad de apariciones de cada caracter en la palabra. Por ejemplo, si recibe:** *Pamplona* **deberia devolver:** *'p': 2, 'a': 2, 'm': 1, 'l': 1, 'o': 1, 'n': 1* **(1 punto)**"
   ]
  },
  {
   "cell_type": "code",
   "execution_count": 55,
   "metadata": {},
   "outputs": [
    {
     "name": "stdout",
     "output_type": "stream",
     "text": [
      "Introduce una palabra: Pamplona\n"
     ]
    },
    {
     "data": {
      "text/plain": [
       "{'p': 2, 'a': 2, 'm': 1, 'l': 1, 'o': 1, 'n': 1}"
      ]
     },
     "execution_count": 55,
     "metadata": {},
     "output_type": "execute_result"
    }
   ],
   "source": [
    "palabra = input(\"Introduce una palabra: \").lower() # Pamplona\n",
    "\n",
    "lista_caracteres = []\n",
    "lista_ocurrencias = []\n",
    "diccionario_apariciones = {}\n",
    "\n",
    "for i in palabra:\n",
    "    if i not in lista_caracteres:\n",
    "        lista_caracteres.append(i)\n",
    "\n",
    "for i in lista_caracteres:\n",
    "    contador = 0\n",
    "    for j in palabra:\n",
    "        if i == j:\n",
    "            contador += 1\n",
    "    lista_ocurrencias.append(contador)\n",
    "    \n",
    "for i in range(len(lista_caracteres)): \n",
    "    diccionario_apariciones[lista_caracteres[i]] = lista_ocurrencias[i]\n",
    "    \n",
    "diccionario_apariciones\n",
    "    "
   ]
  },
  {
   "cell_type": "markdown",
   "metadata": {},
   "source": [
    "**Crea un fichero de texto plano y guárdalo en un lugar accesible (0.25 puntos) por una función función que 1) extraiga el número de líneas que hay en el fichero (0.5 puntos). 2) Cuente el número de palabras que hay en el fichero (0.5 puntos). 3) Cuente el número de letras que hay en el fichero y 4) contabilize el número de veces que aparece la letra** *'a'.* **(0.25 puntos)**"
   ]
  },
  {
   "cell_type": "code",
   "execution_count": 11,
   "metadata": {
    "tags": [
     "outputPrepend"
    ]
   },
   "outputs": [
    {
     "output_type": "stream",
     "name": "stdout",
     "text": [
      "lero,\n",
      "y yelmo de oro; que todas las cosas que veía con mucha facilidad\n",
      "las acomodaba a sus desvariadas caballerías y mal andantes\n",
      "pensamientos: y cuando él vio que el pobre caballero llegaba\n",
      "cerca, sin ponerse con él en razones, a todo correr de\n",
      "Rocinante, le enristró con el lanzón bajo llevando intención de\n",
      "pasarle de parte a parte; mas cuando a él llegaba, sin detener\n",
      "la furia de su carrera, le dijo: Defiéndete, cautiva criatura, o\n",
      "entrégame de tu voluntad lo que con tanta razón se me debe.\n",
      "\n",
      "     El barbero, que tan sin pensarlo ni temerlo vio venir\n",
      "aquella fantasma sobre sí, no tuvo otro remedio para poder\n",
      "guardarse del golpe de la lanza, sino fue el dejarse caer del\n",
      "asno abajo, y no hubo tocado el suelo cuando se levantó más\n",
      "ligero que un gamo, y comenzó a correr por aquel llano, que no\n",
      "le alcanzara el viento. Dejóse la bacía en el suelo, con la cual\n",
      "se contentó Don Quijote, y dijo que el pagano había andado\n",
      "discreto, y que había imitado al castor, el cual, viéndose\n",
      "acosado de los cazadores, se taraza y corta con los dientes\n",
      "aquello por lo que él por instinto natural sabe que es\n",
      "perseguido. Mandó a Sancho que alzase el yelmo, el cual,\n",
      "tomándole en las manos, dijo: Por Dios que la bacía es buena, y\n",
      "que vale un real de a ocho como un maravedí, y dándosela a su\n",
      "amo, se la puso luego en la cabeza, rodeándola a una parte y a\n",
      "otra, buscándole el encaje, y como no se hallaba dijo: Sin duda\n",
      "que el pagano, a cuya medida se forjó primero esta famosa\n",
      "celada, debía de tener grandísima cabeza, y lo peor dello es que\n",
      "le falta la mitad.  Cuando Sancho oyó llamar a la bacía celada\n",
      "no pudo tener la risa; mas vínosele a las mientes la cólera de\n",
      "su amo, y calló en la mitad della. ¿De qué te ríes, Sancho? dijo\n",
      "Don Quijote. Ríome, respondió él, de considerar la gran cabeza\n",
      "que tenía el pagano, dueño de este almete, que semeja sino una\n",
      "bacía de barbero pintiparada. ¿Sabes qué imagino, Sancho? Que\n",
      "esta famosa pieza deste encantado yelmo, por algún extraño\n",
      "accidente de venir a manos de quien no supo conocer ni estimar\n",
      "su valor, y sin saber lo que hacía, viéndola de oro purísimo,\n",
      "debía de fundir la otra mitad para aprovecharse del precio, y de\n",
      "la otra mitad hizo esta, que parece bacía de barbero, como tú\n",
      "dices; pero sea lo que fuere, que para mí que la conozco no hace\n",
      "al caso su trasmutación, que yo la aderezaré en el primer lugar\n",
      "que haya herrero, y de suerte que no le haga ventaja ni aún le\n",
      "llegue la que hizo y forjó el dios de las herrerías para el dios\n",
      "de las batallas. Y en este entre tanto la traeré como pudiere,\n",
      "que más vale elgo que no nada, cuanto más que bien será bastante\n",
      "para defenderme de alguna pedrada.\n",
      "\n",
      "     Eso será, dijo Sancho, si no se tira con honda, como se\n",
      "tiraron en la pelea de los dos ejércitos, cuando le santiguaron\n",
      "a vuestra merced las muelas y le rompieron el alcuza donde venía\n",
      "aquel benditísimo brebaje que me hizo vomitar las asaduras. No\n",
      "me da mucha pena el haberle perdido, que ya sabes tú, Sancho,\n",
      "dijo Don Quijote, que yo tengo la receta en la memoria. También\n",
      "la tengo yo, respondió Sancho; pero si yo le hiciere ni le\n",
      "probare más en la vida, aquí sea mi hora; cuanto más que no\n",
      "pienso ponerme en ocasión de haberle menester, porque pienso\n",
      "guardarme con todos mis cinco sentidos de ser ferido, ni de\n",
      "ferir a nadie. De lo de ser otra vez manteado, no digo nada, que\n",
      "semejantes desgracias mal se pueden prevenir, y si vienen, no\n",
      "hay que hacer otra cosa sino encoger los hombros, detener el\n",
      "aliento, cerrar los ojos y dejarse ir por donde la suerte y la\n",
      "manta nos llevare.\n",
      "\n",
      "     Mal cristiano eres, Sancho, dijo oyendo esto Don Quijote,\n",
      "porque nunca olvidas la injuria que una vez te han hecho; pues\n",
      "sábete que es de pechos nobles y generosos no hacer caso de\n",
      "niñerías. ¿Qué pie sacaste cojo? ¿Qué costilla quebrada? ¿Qué\n",
      "cabeza rota, para que no se te olvide aquella burla?... Que bien\n",
      "apurada la cosa, burla fue y pasatiempo, que a no entenderlo yo\n",
      "así, ya yo hubiera vuelto allá y hubiera hecho en tu venganza\n",
      "más daño que el que hicieron los griegos por la robada Elena: la\n",
      "cual, si fuera en este tiempo, o mi Dulcinea fuera en aquel,\n",
      "pudiera estar segura que no tuviera tanta fama de hermosa como\n",
      "tiene. Y aquí dio un suspiro y le puso en las nubes, y dijo\n",
      "Sancho: Pase por burlas, pues la venganza no puede pasar en\n",
      "veras; pero yo sé de que calidad fueron las veras y las burlas,\n",
      "y sé también que no se me caerán de la memoria, como nunca se me\n",
      "quitarán de las espaldas.\n",
      "\n",
      "     Pero dejando esto aparte, dígame vuestra merced que haremos\n",
      "de este caballo rucio rodado, que parece asno rodado que dejó\n",
      "aquí desamparado aquel Martino que vuestra merced derribó, que\n",
      "según él puso los pies en polvorosa y cogió las de Villadiego,\n",
      "no lleva pergenio de volver por él jamás, y para mis barbas si\n",
      "no es bueno el rucio. Nunca yo acostumbro, dijo Don Quijote,\n",
      "despojar a los que venzo, ni es uso de caballería quitarles los\n",
      "caballos y dejarles a pie; si ya no fuese que el vencedor\n",
      "hubiese perdido en la pendencia el suyo, que en tal caso lícito\n",
      "es tomar el del vencido, como ganado en gguerra lícita. Así que,\n",
      "Sancho, deja ese caballo o asno, o lo que tú quisieres que sea,\n",
      "que como su dueño nos vea alongados de aquí volverá por él. Dios\n",
      "sabe si quisiera llevarle, replicó Sancho, o por lo menos\n",
      "trocalle con este mío que no me parece tan bueno. Verdaderamente\n",
      "que son estrechas las leyes de caballería, pues no se extienden\n",
      "a dejar trocar un asno por otro y querría saber si podría trocar\n",
      "los aparejos siquiera. En eso no estoy muy cierto, respondió Don\n",
      "Quijote, y en caso de duda, hasta estar mejor informado, digo\n",
      "que los trueques, si es que tienes dellos necesidad extrema. Tan\n",
      "extrema es, respondió Sancho, que si fueran para mi misma\n",
      "persona no los hubiera menester más. Y luego, habilitado con\n",
      "aquella licencia, hizo mutatio capparum, y puso su jumento a las\n",
      "mil lindezas, dejándole mejorado en tercio y quinto.\n",
      "\n",
      "     Hecho esto, almorzaron de las sobras del real que del\n",
      "acémila despojaron, bebieron del agua del arroyo de los batanes,\n",
      "sin volver la cara a mirallos; tal era el aborrecimiento que les\n",
      "tenían por el miedo en que les habían puesto, y cortada la\n",
      "cólera, y aún la melancolía, subieron a caballo, y sin tomar\n",
      "determinado camino (por ser de muy caballeros andantes el no\n",
      "tomar ninguno cierto) se pusieron a caminar por donde la\n",
      "voluntad de Rocinante quiso, que se llevaba tras sí la de su\n",
      "amo, y aún la del asno, que siempre le seguía por donde quiera\n",
      "que guiaba en buen amor y compañía. Con todo esto volvieron al\n",
      "camino real, y siguieron por él a la ventura sin otro designio\n",
      "alguno.\n",
      "\n",
      "     Yendo, pues, así caminando, dijo Sancho a su amo: Señor,\n",
      "¿quiere vuestra merced darme licencia que departa un poco con\n",
      "él? Que después que me puso aquel áspero mandamiento del\n",
      "silencio, se me han podrido más de cuatro cosas en el estómago,\n",
      "y una sola que ahora tengo en el pico de la lengua no querría\n",
      "que se malograse. Dila, dijo Don Quijote, y sé breve en tus\n",
      "razonamientos, que ninguno hay gustoso si es largo. Digo, pues,\n",
      "señor, respondió Sancho, que de algunos días a esta parte he\n",
      "considerado cuán poco se gana y granjea de andar buscando estas\n",
      "aventuras que vuestra merced busca por estos desiertos y\n",
      "encrucijadas de caminos, donde ya que se venzan y acaben las más\n",
      "peligrosas, no hay quien las vea y sepa, y así se han de quedar\n",
      "en perpetuo silencio, y en perjuicio de la intención de vuestra\n",
      "merced, y de lo que ellas merecen; y así me parece que sería\n",
      "mejor (salvo el mejor parecer de vuestra merced) que nos\n",
      "fuésemos a servir a algún emperador, o a otro príncipe grande\n",
      "que tenga alguna guerra, en cuyo servicio vuestra merced muestre\n",
      "el valor de su persona, sus grandes fuerzas y mayor\n",
      "entendimiento; que visto esto del señor a quien serviremos, por\n",
      "fuerza nos ha de remunerar a cada cual según sus méritos; y allí\n",
      "no faltara quien ponga en escrito las hazañas de vuestra merced\n",
      "para perpetua memoria: de las mías no digo nada, pues no han de\n",
      "salir de los límites escuderiles, aunque sé decir que si se usa\n",
      "en la caballería escribir hazañas de escuderos, que no pienso\n",
      "que se han de quedar las mías entre renglones. No dices mal,\n",
      "Sancho, respondió Don Quijote; mas antes que se llegue a este\n",
      "término es menester andar por el mundo, como en aprobación,\n",
      "buscando las aventuras, para que acabando algunas se cobre\n",
      "nombre y fama tal, que cuando se fuere a la corte de algún gran\n",
      "monarca, ya sea el caballero conocido por sus obras, y que\n",
      "apenas le hayan visto entrar los muchachos por la puerta de la\n",
      "ciudad, cuando todos le sigan y rodeen dando voces, diciendo:\n",
      "este es el caballero del Sol, o de la Serpiente, o de otra\n",
      "insignia alguna, debajo de la cual hubiere acabado grandes\n",
      "hazañas: este es, dirán, el que venció en singular batalla al\n",
      "gigantazo Brocabruno de la gran fuerza, el que desencantó el\n",
      "gran Mameluco de Persia del largo encantamiento en que había\n",
      "estado casi novecientos años: así que de mano en mano irán\n",
      "pregonando sus hechos, y luego, al alboroto de los muchachos y\n",
      "de la demás gente, aparecerá a las fenestras de su real palacio\n",
      "el rey de aquel reino; y así como vea al caballero, conociéndole\n",
      "por las armas o por la empresa del escudo, forzosamente ha de\n",
      "decir: \"Ea, sus, salgan mis caballeros, cuantos en mi corte\n",
      "están, a recibir a la flor de la caballería que allí viene\".\n",
      "\n",
      "     A cuyo mandamiento saldrán todos, y él llegará hasta la\n",
      "mitad de la escalera, y le abrazará estrechísimamente, y le dará\n",
      "paz besándole en el rostro, y luego le llevará por la mano al\n",
      "aposento de la señora reina, adonde el caballero la hallará con\n",
      "la infanta su hija, que ha de ser una de las más hermosas y\n",
      "acabadas doncellas que en gran parte de lo descubierto de la\n",
      "tierra a duras penas se pueden hallar: sucederá tras esto luego\n",
      "en continente que ella ponga los ojos en el caballero, y él en\n",
      "los della, y cada uno parezca al otro cosa más divina que\n",
      "humana; y sin saber cómo ni cómo no, han de quedar presos y\n",
      "enlazados en la intrincada red amorosa, y con gran cuita en sus\n",
      "coraqzones por no saber cómo se han de fablar para descubrir sus\n",
      "ansias y sentimientos. Desde allí le llevarán sin duda a algún\n",
      "cuarto del palacio ricamente aderezado, donde habiéndole quitado\n",
      "las armas, le traerán un rico mantón de escarlata con que se\n",
      "cubra, y si bien pareció armado, tan bien y mejor ha de parecer\n",
      "en farceto: venida la noche, cenará con el rey, reina, e\n",
      "infanta, donde nunca quitará los ojos della, mirándola a furto\n",
      "de los circunstantes, y ella hará lo mesmo con la mesma\n",
      "sagacidad, porque, como tengo dicho, es muy discreta doncella.\n",
      "\n",
      "     Levantarse han las tablas, y entrará a deshora por la\n",
      "puerta de la sala un feo y pequeño enano con una fermosa dueña,\n",
      "que entre dos gigantes detrás del enano vienen con cierta\n",
      "aventura hecha por un antiquísimo sabio, que el que la acabare\n",
      "será tenido por el mejor caballero del mundo: mandará luego el\n",
      "rey que todos los que están presentes la prueben, y ninguno le\n",
      "dará fin y cima sino el caballero huésped, en mucho pro de su\n",
      "fama, de lo cual quedará contentísima la infanta, y se tendrá\n",
      "por contenta y pagada además, por haber puesto y colocado sus\n",
      "pensamientos en tan alta parte: y lo bueno es, que este rey o\n",
      "príncipe, o lo que es, tiene una muy reñida guerra con otro tan\n",
      "poderoso como él, y el caballero huésped le pide (al cabo de\n",
      "algunos días que ha estado en su corte) licencia para ir a\n",
      "servirle en aquella guerra dicha.\n",
      "\n",
      "     Darásela el rey de muy buen talante, y el caballero le\n",
      "besará cortésmente las manos por la merced que le face: y\n",
      "aquella noche se despedirá de su señora la infanta por las rejas\n",
      "de un jardín en que cae el aposento donde ella duerme, por las\n",
      "cuales otras muchas veces la habrá fablado, siendo medianera y\n",
      "sabidora de todo una doncella de quien la infanta mucho se fía.\n",
      "Suspirará él, desmayaráse ella, traerá agua la doncella,\n",
      "acuitaráse mucho, porque viene la mañana y no querría que fuesen\n",
      "descubiertos por la honra de su señora; finalmente la infanta\n",
      "volverá en sí y dará sus blancas manos por la reja al caballero,\n",
      "el cual se las besará mil y mil veces, y se las bañará en\n",
      "lágrimas: quedará concertado entre los dos del modo que se han\n",
      "de hacer saber sus buenos o malos sucesos, y rogarále la\n",
      "princesa que se detenga lo menos que pudiere. Prometérselo ha él\n",
      "con mucho juramentos; tórnale a besar las manos, y despídese con\n",
      "tanto sentimiento, que estará poco para acabar la vida; vase\n",
      "desde allí a su aposento, échase sobre su lecho, no puede dormir\n",
      "del dolor de la partida; madruga muy de mañana, vase a despedir\n",
      "del rey, y de la reina, y de la infanta, diciéndole (habiéndose\n",
      "despedido de los dos) que la señora infanta está mal dispuesta,\n",
      "y que no puede recibir visita. Piensa el caballero, que es de\n",
      "pena de su partida, traspásasele el corazón, y falta poco de no\n",
      "dar indicio manifiesto de su pena: está la doncella medianera\n",
      "delante, halo de notar todo, váselo a decir a su señora, la cual\n",
      "la recibe con lágrimas, y le dice que una de las mayores penas\n",
      "que tiene es no saber quién sea su caballero, y si es de linaje\n",
      "de reyes o no: asegura la doncella que no puede caber tanta\n",
      "cortesía, gentileza y valentía como la de su caballero sino en\n",
      "sujeto real y grave.\n",
      "\n",
      "     Consuélase con esto la cuitada, y procura consolarse por no\n",
      "dar mal indicio de sí a sus padres, y al cabo de dos días sale\n",
      "en público: ya se es ido el caballero: pelea en la guerra, vence\n",
      "al enemigo del rey, gana muchas ciudades, triunfa de muchas\n",
      "batallas. Vuelve a la corte, ve a su señora por donde suele,\n",
      "conciértase que la pida a su padre por mujer en pago de sus\n",
      "servicios, no se la quiere dar el rey, porque no sabe quién es;\n",
      "pero con todo esto, o robada, o de otra cualquier suerte que\n",
      "sea, la infanta viene a ser su esposa, y su padre lo viene a\n",
      "tener a gran ventura, porque se vino a averiguar que el tal\n",
      "caballero es hijo de un valeroso rey de no sé qué reino, porque\n",
      "creo que no debe estar en el mapa. Muérese el padre, hareda la\n",
      "infanta, queda rey el caballero en dos palabras. Aquí entra\n",
      "luego el hacer mercedes a su escudero y a todos aquellos que le\n",
      "ayudaron a subir a tan alto estado. Casa a su escudero con una\n",
      "doncella de la infanta, que será sin duda la que fue tercera en\n",
      "sus amores, que es hija de un duque muy principal.\n",
      "\n",
      "     Eso pido, y barras derechas, dijo Sancho; a eso me atengo,\n",
      "porque todo al pie de la letra ha de suceder por vuestra merced,\n",
      "llamándose \"el caballero de la Triste Figura\". No lo dudes,\n",
      "Sancho, replicó Don Quijote, del mismo modo y por los mismos\n",
      "pasos que esto he contado suben y han subido los caballeros\n",
      "andantes a ser reyes y emperadores. Sólo falta ahora mirar qué\n",
      "rey de los cristianos o los paganos tenga guerra, y tenga hija\n",
      "hermosa; pero tiempo habrá para pensar esto, pues como te tengo\n",
      "dicho, primero se ha de cobrar fama por otras partes que se\n",
      "acuda a la corte. \n",
      "\n",
      "     También me falta otra cosa, que puesto caso que se halle\n",
      "rey con guerra y con hija hermosa, y que yo haya cobrado fama\n",
      "increíble por todo el universo, no sé yo como se podrá hallar\n",
      "que yo sea de linaje de reyes, o por lo menos primo segundo de\n",
      "emperador; porque no me querrá el rey dar a su hija por mujer,\n",
      "si no está primero muy enterado en esto, aunque más lo merezcan\n",
      "mis famosos hechos: así que por esta falta temo perder lo que mi\n",
      "brazo tiene bien merecido: bien es verdad que soy hijodalgo de\n",
      "solar conocido, de posesión y propiedad, y de devengar\n",
      "quinientos sueldos: y podría ser que el sabio que escribiese mi\n",
      "historia deslindase de tal manera mi parentela y descendencia,\n",
      "que me hallase quinto o sexto nieto de rey: porque te hago\n",
      "saber, Sancho, que hay dos maneras de linaje en el mundo: unos\n",
      "que traen y derivan su descendencia de príncipes y monarcas, a\n",
      "quien poco a poco el tiempo ha desecho, y han acabado en punta\n",
      "como pirámides, y otros que tuvieron principio de gente baja, y\n",
      "van subiendo de grado en grado, hasta llegar a ser grandes\n",
      "señores; de manera que está la diferencia en que unos fueron que\n",
      "ya no son, y otros son que ya no fueron, y podría ser yo destos,\n",
      "que de después de averiguado hubiese sido mi principio grande y\n",
      "famoso, con lo cual se debera de contentar el rey mi suegro que\n",
      "hubiere de ser: y cuando no la infanta me ha de querer de\n",
      "manera, que a pesar de su padre, aunque claramente sepa que soy\n",
      "hijo de azacan, me ha de admitir por señor y por esposo: y si\n",
      "no, aquí entra el roballa y llevarla donde más gusto me diere,\n",
      "que el tiempo o la muerte ha de acabar el enojo de sus padres.\n",
      "\n",
      "     Ahí entra también, dijo Sancho, lo que algunos desalmados\n",
      "dicen: no pidas de grado lo que puedes tomar por fuerza, aunque\n",
      "mejor cuadra decir: más vale salto de mata que ruego de hombres\n",
      "buenos. Dígolo, porque si el señor rey, suegro de vuestra\n",
      "merced, no se quisiere domeñar a entregarle a mi señora la\n",
      "infanta, no hay sino, como vuestra merced dice, roballa y\n",
      "trasponella; pero está el daño que en tanto que se hagan las\n",
      "paces y se goce pacíficamente del reino, el pobre escudero se\n",
      "podrá estar a diente en esto de las mercedes, si ya no es que la\n",
      "doncella tercera, que ha de ser su mujer, se sale con la\n",
      "infanta, y él pasa con ella su mala ventura hasta que el cielo\n",
      "ordene otra cosa; porque bien podrá, creo yo, desde luego\n",
      "dársela su señor por legítima esposa. Eso no hay quien lo quite,\n",
      "dijo Don Quijote, como yo deseo, y tú, has menester, y ruin sea\n",
      "quien por ruin se tiene.\n",
      "\n",
      "     Sea por DIos, dijo Sancho, que yo cristiano viejo soy, y\n",
      "para ser conde esto me basta. Y aún te sobra, dijo Don Quijote,\n",
      "y cuando no lo fueras, no hacía nada al caso, porque siendo yo\n",
      "el rey, bien te puedo dar nobleza sin que la compres ni me\n",
      "sirvas con nada, poruqe en haciéndote conde, cátate ahí\n",
      "caballero, y digan lo que dijeren, que a buena fe que te han de\n",
      "llamar señoría, mal que les pese. Y montas, que no sabría yo\n",
      "autorizar el litado, dijo Sancho. Dictado has de decir que no\n",
      "litado, dijo su amo. Sea así, respondió Sancho Panza. Digo que\n",
      "le sabría bien acomodar, porque por vida mía, que un tiempo fui\n",
      "muñidor de una cofradía, y que asentaba tan bien la ropa de\n",
      "muñidor, que decían todos que tenía presencia para ser prioste\n",
      "de la mesma cofradía. Pues ¿qué será cuando me ponga un ropón\n",
      "ducal a cuestas, o me vista de oro y de perlas a uso de conde\n",
      "extranjero? Para mí tengo que me han de venir a ver de cien\n",
      "leguas. Bien parecerás, dijo Don Quijote; pero será menester que\n",
      "te rapes las barbas a menudo, que según las tienes de espesas,\n",
      "aborrascadas y mal puestas, si no te las rapas a navaja cada\n",
      "dosíapor lo menos, a tiro de escopeta se echará de ver lo que\n",
      "eres.\n",
      "\n",
      "     ¿Qué hay más, dijo Sancho, sino tomar un barbero, y tenerle\n",
      "asalariado en casa? Y aún si fuera menester, le haré que ande\n",
      "tras mí como caballerizo de grande. Pues ¿cómo sabes tú,\n",
      "preguntó Don Quijote, que los grandes llevan detrás de sí a sus\n",
      "caballerizos? Yo se lo diré, respondió Sancho. Los años pasados\n",
      "estuve un mes en la corte, y allí vi que paseándose un señor muy\n",
      "pequeño, que decían que era muy grande, un hombre le seguía a\n",
      "caballo a todas las vueltas que daba, que no parecía sino que\n",
      "era su rabo. Pregunté que cómo aquel hombre no se juntaba con el\n",
      "otro hombre, sino que siempre andaba tras dél. Respondiéronme\n",
      "que era su caballerizo, y era uso de grandes llevar tras sí a\n",
      "los tales. desde entonces lo sé tan bien, que nunca se me ha\n",
      "olvidado. Digo que tienes razón, dijo Don Quijote, y que así\n",
      "puedes tú llevar a tú barbero; que los usos no vinieron todos\n",
      "juntos ni se inventaron a una, y puedes tú ser el primer conde\n",
      "que lleve tras sí a su barbero; y aún es de más confianza el\n",
      "hacer la barba que ensillar un caballo. Quédese eso del barbero\n",
      "a mi cargo, dijo SAncho, y al de vuestra merced se quede el\n",
      "procurar venir a ser rey y el hacerme conde. Así será, respondió\n",
      "Don Quijote.\n",
      "--------------------------------------------------\n",
      "Hay 5534 lineas en el fichero\n",
      "--------------------------------------------------\n",
      "El numero de palabras es:  56521 palabras\n",
      "--------------------------------------------------\n",
      "El numero de letras es:  311211 letras\n",
      "--------------------------------------------------\n",
      "La letra a se repite 29296 veces\n"
     ]
    }
   ],
   "source": [
    "import io\n",
    "\n",
    "fichero=io.open('quijote.txt','r',encoding='utf8')\n",
    "print(fichero.read())\n",
    "fichero.close()\n",
    "print(50*'-')\n",
    "\n",
    "#1)\n",
    "fichero=io.open('quijote.txt','r',encoding='utf8')\n",
    "no_lineas=0\n",
    "for line in fichero:\n",
    "    no_lineas=no_lineas+1\n",
    "fichero.close()\n",
    "print(f'Hay {no_lineas} lineas en el fichero')\n",
    "print(50*'-')\n",
    "\n",
    "#2)\n",
    "fichero=io.open('quijote.txt','r',encoding='utf8')\n",
    "data=fichero.read()\n",
    "palabras=data.split()\n",
    "print('El numero de palabras es: ',len(palabras),'palabras')\n",
    "fichero.close()\n",
    "print(50*'-')\n",
    "\n",
    "#3)\n",
    "fichero=io.open('quijote.txt','r',encoding='utf8')\n",
    "data=fichero.read()\n",
    "numero_letras=len(data)\n",
    "fichero.close()\n",
    "print('El numero de letras es: ',numero_letras, 'letras')\n",
    "print(50*'-')\n",
    "\n",
    "#4)\n",
    "fichero=io.open('quijote.txt','r',encoding='utf8')\n",
    "a=input('Letra: ')\n",
    "n=0\n",
    "with io.open('quijote.txt','r',encoding='utf8') as fichero:\n",
    "    for line in fichero:\n",
    "        palabras=line.split()\n",
    "        for i in palabras:\n",
    "            for letra in i:\n",
    "                if(letra==a):\n",
    "                    n=n+1\n",
    "                    \n",
    "print(f\"La letra {a} se repite {n} veces\")                    \n",
    "\n",
    "\n"
   ]
  },
  {
   "cell_type": "markdown",
   "metadata": {},
   "source": [
    "**Define una funcion que se llame area_circulo y que a partir del radio del circulo, devuelva su area. Puedes utilizar como aproximacion al numero PI = 3.1416 (1 punto)**"
   ]
  },
  {
   "cell_type": "code",
   "execution_count": 13,
   "metadata": {},
   "outputs": [
    {
     "name": "stdout",
     "output_type": "stream",
     "text": [
      "Introduce radio12\n",
      "452.3904\n"
     ]
    }
   ],
   "source": [
    "def area_circulo(radio):\n",
    "    PI=3.1416\n",
    "    area=PI*(radio**2)\n",
    "    return area\n",
    "radio=float(input('Introduce radio'))\n",
    "\n",
    "print(area_circulo(radio))"
   ]
  },
  {
   "cell_type": "markdown",
   "metadata": {},
   "source": [
    "**Vas conduciendo y te pasas un poco de velocidad, un agente te detiene. Escribe una función que devuelva uno de los 3 posibles resultados que nos dará el agente: si la velocidad es 60km/h o menos, el resultado es:** *sin multa,* **si la velocidad se encuentra entre 61 y 80 ambos inclusive, el resultado es:** *multa pequeña,* **para velocidades superiores a 81 el resultado siempre es:** *multa grande.* \n",
    "**Si resulta que hoy es tu cumpleaños, el agente hace la vista gorda y permite un incremento de 5km/h en el limite normal (este valor se pasa como un boolean a la función) (1 punto)**"
   ]
  },
  {
   "cell_type": "code",
   "execution_count": 4,
   "metadata": {},
   "outputs": [
    {
     "name": "stdout",
     "output_type": "stream",
     "text": [
      "Tendra una multa grande\n"
     ]
    }
   ],
   "source": [
    "def multado(velocidad,cumpleaños):\n",
    "    if cumpleaños=='no':\n",
    "        if velocidad<= 60:\n",
    "            print('No sera multado')\n",
    "        elif 60<velocidad<=80:\n",
    "            print('Tendra una multa pequeña')\n",
    "        elif velocidad>80:\n",
    "            print('Tendra una multa grande')\n",
    "    else:\n",
    "        if cumpleaños=='si':\n",
    "            if velocidad<= 65:\n",
    "                print('No sera multado')\n",
    "            elif 65<velocidad<=85:\n",
    "                print('Tendra una multa pequeña')\n",
    "            elif velocidad>85:\n",
    "                print('Tendra una multa grande')\n",
    "        print(Multa)\n",
    "        \n",
    "multado(85,'no')       \n",
    "\n",
    "\n",
    "        \n",
    "\n",
    "    "
   ]
  },
  {
   "cell_type": "markdown",
   "metadata": {},
   "source": [
    "**Escribe un programa que acepta una frase como entrada y calcula el número de letras y dígitos contenidos en ésta. Por simpleza, no considerar espacios en blanco ni carácteres especiales. Por ejemplo, si recibimos:** *'Hola Mundo, 123!'* **La salida deberia ser:** *Letras: 9, Dígitos: 3* **. (1 punto)**"
   ]
  },
  {
   "cell_type": "code",
   "execution_count": 10,
   "metadata": {},
   "outputs": [
    {
     "name": "stdout",
     "output_type": "stream",
     "text": [
      "Introduzca fraseHola Mundo, 123\n",
      "Digitos:3\n",
      "Letras:9\n"
     ]
    }
   ],
   "source": [
    "def contar (cadena):\n",
    "    digitos=0\n",
    "    letras=0\n",
    "    for z in cadena:\n",
    "        if z.isdigit():\n",
    "            digitos+=1\n",
    "        elif z.isalpha():\n",
    "            letras+=1\n",
    "        else:\n",
    "            pass\n",
    "    return digitos,letras\n",
    "frase=input('Introduzca frase')\n",
    "resultado=contar(frase)\n",
    "print('Digitos:%i' %resultado[0])\n",
    "print('Letras:%i' %resultado[1])\n",
    "        \n",
    "        \n",
    "    "
   ]
  },
  {
   "cell_type": "code",
   "execution_count": null,
   "metadata": {},
   "outputs": [],
   "source": []
  }
 ],
 "metadata": {
  "celltoolbar": "Hide code",
  "kernelspec": {
   "display_name": "Python 3",
   "language": "python",
   "name": "python3"
  },
  "language_info": {
   "codemirror_mode": {
    "name": "ipython",
    "version": 3
   },
   "file_extension": ".py",
   "mimetype": "text/x-python",
   "name": "python",
   "nbconvert_exporter": "python",
   "pygments_lexer": "ipython3",
   "version": "3.8.5-final"
  }
 },
 "nbformat": 4,
 "nbformat_minor": 1
}
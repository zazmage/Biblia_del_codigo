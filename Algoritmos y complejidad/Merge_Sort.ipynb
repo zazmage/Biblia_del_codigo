{
 "metadata": {
  "language_info": {
   "codemirror_mode": {
    "name": "ipython",
    "version": 3
   },
   "file_extension": ".py",
   "mimetype": "text/x-python",
   "name": "python",
   "nbconvert_exporter": "python",
   "pygments_lexer": "ipython3",
   "version": "3.8.5-final"
  },
  "orig_nbformat": 2,
  "kernelspec": {
   "name": "python3",
   "display_name": "Python 3.8.5 64-bit (conda)",
   "metadata": {
    "interpreter": {
     "hash": "fb698bdeab99cfbf9e31cab566d99a06e057f2dec3dcc8097ebabb329e860e16"
    }
   }
  }
 },
 "nbformat": 4,
 "nbformat_minor": 2,
 "cells": [
  {
   "cell_type": "code",
   "execution_count": 13,
   "metadata": {},
   "outputs": [
    {
     "output_type": "execute_result",
     "data": {
      "text/plain": [
       "4"
      ]
     },
     "metadata": {},
     "execution_count": 13
    }
   ],
   "source": [
    "9//2"
   ]
  },
  {
   "cell_type": "code",
   "execution_count": 14,
   "metadata": {},
   "outputs": [
    {
     "output_type": "stream",
     "name": "stdout",
     "text": [
      "0\n1\n2\n3\n4\n5\n6\n7\n8\n9\n"
     ]
    }
   ],
   "source": [
    "# Esto hace las veces de un ciclo for\n",
    "i = 0\n",
    "while i < 10:\n",
    "    print(i)\n",
    "    i += 1"
   ]
  },
  {
   "source": [
    "'''\n",
    "[5,3,6,2,10,8,1,12,7]\n",
    "[5,3,6,2] [10,8,1,12,7]\n",
    "[5,3] [6,2] [10,8] [1,12,7]\n",
    "[5] [3] [6] [2] [10] [8] [1] [12] [7]\n",
    "[3,5] [2,6] [8,10] [1,12] [7]\n",
    "[2,3,5,6] [1,8,10,12] [7]\n",
    "[1,2,3,5,6,8,10,12] [7]\n",
    "[1,2,3,5,6,7,8,10,12]\n",
    "'''"
   ],
   "cell_type": "code",
   "metadata": {},
   "execution_count": 15,
   "outputs": [
    {
     "output_type": "execute_result",
     "data": {
      "text/plain": [
       "'\\n[5,3,6,2,10,8,1,12,7]\\n[5,3,6,2] [10,8,1,12,7]\\n[5,3] [6,2] [10,8] [1,12,7]\\n[5] [3] [6] [2] [10] [8] [1] [12] [7]\\n[3,5] [2,6] [8,10] [1,12] [7]\\n[2,3,5,6] [1,8,10,12] [7]\\n[1,2,3,5,6,8,10,12] [7]\\n[1,2,3,5,6,7,8,10,12]\\n'"
      ]
     },
     "metadata": {},
     "execution_count": 15
    }
   ]
  },
  {
   "cell_type": "code",
   "execution_count": 16,
   "metadata": {},
   "outputs": [
    {
     "output_type": "execute_result",
     "data": {
      "text/plain": [
       "' \\ndef printList(arr):\\n    for i in range(len(arr)):\\n        print(arr[i], end=\" \")\\n    print()\\n \\n \\n# Driver Code\\n\\narr = [12, 11, 13, 5, 6, 7]\\nprint(\"Given array is\", end=\"\\n\")\\nprintList(arr)\\nmergeSort(arr)\\nprint(\"Sorted array is: \", end=\"\\n\")\\nprintList(arr)\\n \\n'"
      ]
     },
     "metadata": {},
     "execution_count": 16
    }
   ],
   "source": [
    "# Esta función utilizará el algoritmo merge sort para organizar una lista de números pasada como argumento.\n",
    "def mergeSort(arr):\n",
    "    # Comprueba que el tamaño de la lista sea mayor que 1\n",
    "    if len(arr) > 1:\n",
    " \n",
    "        # Esta variable almacena la parte entera de la división por 2 del tamaño de la lista para encontrar su mitad.\n",
    "        mid = len(arr)//2\n",
    " \n",
    "        # Almacena los elementos a la izquierda de la mitad de la lista\n",
    "        L = arr[:mid]\n",
    " \n",
    "        # Almacena los elementos a la derecha de la mitad de la lista\n",
    "        R = arr[mid:]\n",
    " \n",
    "        # Hace uso de la recursividad para quedar con los valores independintes de la lista de la izquierda.\n",
    "        mergeSort(L)\n",
    " \n",
    "        # Hace uso de la recursividad para quedar con los valores independintes de la lista de la derecha.\n",
    "        mergeSort(R)\n",
    "\n",
    "        # Inicializamos las viariables, i,j,k en 0\n",
    "        i = j = k = 0\n",
    " \n",
    "        # Ciclo while que se cumplirá siempre y cuando el tamaño de la lista L sea más grande que i y el tamaño de la lista R sea más grande que j.\n",
    "        while i < len(L) and j < len(R):\n",
    "            # Estamos comparando los elementos de L con el primer elemento de R.\n",
    "            if L[i] < R[j]:\n",
    "                arr[k] = L[i]\n",
    "                i += 1\n",
    "            else:\n",
    "                arr[k] = R[j]\n",
    "                j += 1\n",
    "            k += 1\n",
    " \n",
    "        # Chequea si el algoritmo ha terminado de ordenar la lista y comprueba si se quedaron elementos al aire.\n",
    "        while i < len(L):\n",
    "            arr[k] = L[i]\n",
    "            i += 1\n",
    "            k += 1\n",
    " \n",
    "        while j < len(R):\n",
    "            arr[k] = R[j]\n",
    "            j += 1\n",
    "            k += 1\n",
    " \n",
    " \n",
    "''' \n",
    "def printList(arr):\n",
    "    for i in range(len(arr)):\n",
    "        print(arr[i], end=\" \")\n",
    "    print()\n",
    " \n",
    " \n",
    "# Driver Code\n",
    "\n",
    "arr = [12, 11, 13, 5, 6, 7]\n",
    "print(\"Given array is\", end=\"\\n\")\n",
    "printList(arr)\n",
    "mergeSort(arr)\n",
    "print(\"Sorted array is: \", end=\"\\n\")\n",
    "printList(arr)\n",
    " \n",
    "'''"
   ]
  },
  {
   "cell_type": "code",
   "execution_count": 18,
   "metadata": {},
   "outputs": [
    {
     "output_type": "stream",
     "name": "stdout",
     "text": [
      "[12, 11, 13, 5, 6, 7]\n[5, 6, 7, 11, 12, 13]\n"
     ]
    }
   ],
   "source": [
    "lista = [12, 11, 13, 5, 6, 7]\n",
    "print(lista)\n",
    "mergeSort(lista)\n",
    "print(lista)"
   ]
  },
  {
   "cell_type": "code",
   "execution_count": null,
   "metadata": {},
   "outputs": [],
   "source": []
  }
 ]
}
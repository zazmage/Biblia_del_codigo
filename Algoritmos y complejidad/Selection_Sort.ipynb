{
 "metadata": {
  "language_info": {
   "codemirror_mode": {
    "name": "ipython",
    "version": 3
   },
   "file_extension": ".py",
   "mimetype": "text/x-python",
   "name": "python",
   "nbconvert_exporter": "python",
   "pygments_lexer": "ipython3",
   "version": "3.9.1-final"
  },
  "orig_nbformat": 2,
  "kernelspec": {
   "name": "python3",
   "display_name": "Python 3.9.1 64-bit",
   "metadata": {
    "interpreter": {
     "hash": "63fd5069d213b44bf678585dea6b12cceca9941eaf7f819626cde1f2670de90d"
    }
   }
  }
 },
 "nbformat": 4,
 "nbformat_minor": 2,
 "cells": [
  {
   "cell_type": "code",
   "execution_count": 1,
   "metadata": {},
   "outputs": [],
   "source": [
    "# Esta es la función que busca el elemento más pequeño de una lista pasada como argumento.\n",
    "def findSmallest(arr):\n",
    "    # La variable smallest la inicializamos con el primer elemento de la lista arr.\n",
    "    smallest = arr[0]\n",
    "    # La variable smallest_index almacena el índice del elemento de la lista en el que vamos.\n",
    "    smallest_index = 0\n",
    "    # Este ciclo for recorre los índices de la lista arr empezando en 1.\n",
    "    for i in range(1, len(arr)):\n",
    "        # Compara si el elemento de la lista evaluado es más pequeño que la variable smallest.\n",
    "        if arr[i] < smallest:\n",
    "            # Si la condición se cumple se actualiza el valor de smallest y su correspondiente índice (smallest_index)\n",
    "            smallest = arr[i]\n",
    "            smallest_index = i\n",
    "    # Retorna el índice del elemento más pequeño de la lista\n",
    "    return smallest_index"
   ]
  },
  {
   "cell_type": "code",
   "execution_count": 2,
   "metadata": {},
   "outputs": [],
   "source": [
    "# Esta función se encargará de retornar la lista pasada como argumento completamente ordenada de mayor a menor con la ayuda de la función findSmallest.\n",
    "def selectionSort(arr):\n",
    "    # Definimos la variable newArr que contendrá la lista organizada.\n",
    "    newArr = []\n",
    "    # Este ciclo for recorre los índices de la lista arr empezando en 0.\n",
    "    for i in range(len(arr)):\n",
    "        # La variable smallest almacena el índice del valor más grande de la lista arr con la ayuda de la función findSmallest.\n",
    "        smallest = findSmallest(arr)\n",
    "        # En la siguiente línea se elimina el elemento ya evaluado y al mismo tiempo se almacena dentro de la lista newArr el valor más grande de la lista.\n",
    "        newArr.append(arr.pop(smallest))\n",
    "    # Retorna la lista ya ordenada\n",
    "    return newArr"
   ]
  },
  {
   "cell_type": "code",
   "execution_count": 3,
   "metadata": {},
   "outputs": [
    {
     "output_type": "stream",
     "name": "stdout",
     "text": [
      "[2, 3, 5, 6, 10]\n"
     ]
    }
   ],
   "source": [
    "# Ejecuta la función\n",
    "print(selectionSort([5,3,6,2,10]))"
   ]
  },
  {
   "cell_type": "code",
   "execution_count": null,
   "metadata": {},
   "outputs": [],
   "source": []
  }
 ]
}
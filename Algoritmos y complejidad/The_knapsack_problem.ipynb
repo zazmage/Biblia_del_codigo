{
 "metadata": {
  "language_info": {
   "codemirror_mode": {
    "name": "ipython",
    "version": 3
   },
   "file_extension": ".py",
   "mimetype": "text/x-python",
   "name": "python",
   "nbconvert_exporter": "python",
   "pygments_lexer": "ipython3",
   "version": "3.8.5-final"
  },
  "orig_nbformat": 2,
  "kernelspec": {
   "name": "python3",
   "display_name": "Python 3.8.5 64-bit (conda)",
   "metadata": {
    "interpreter": {
     "hash": "fb698bdeab99cfbf9e31cab566d99a06e057f2dec3dcc8097ebabb329e860e16"
    }
   }
  }
 },
 "nbformat": 4,
 "nbformat_minor": 2,
 "cells": [
  {
   "cell_type": "code",
   "execution_count": 147,
   "metadata": {},
   "outputs": [
    {
     "output_type": "stream",
     "name": "stdout",
     "text": [
      "Result:  4000\n             1     2     3     4\nObjeto                          \nGuitarra     0     0     0  3000\nStereo       0     0  2000  3000\nLaptop    1500  1500  2000  3500\nIphone    2000  3500  3500  4000\n"
     ]
    }
   ],
   "source": [
    "item_values = [3000, 2000, 1500, 2000] # Precios\n",
    "item_weights = [4, 3, 1, 1] # Peso\n",
    "\n",
    "n = len(item_weights)\n",
    "W = 4 # Capacidad de la mochila\n",
    "# Esta línea crea una matriz de 0s de tamaño nxW\n",
    "K = [[0 for w in range(W + 1)] for i in range(n)]\n",
    "\n",
    "# Recursividad\n",
    "# Recorre el número de elementos en la lista de pesos\n",
    "for i in range(0, n):\n",
    "    # Recorre los pesos desde el peso 1 hasta el peso máximo\n",
    "    for w in range(1, W + 1):\n",
    "        wi = item_weights[i]\n",
    "        vi = item_values[i]\n",
    "        # Comprueba si el peso del objeto evaluado es menor o igual que w\n",
    "        if wi <= w:\n",
    "            K[i][w] = max([K[i - 1][w - wi] + vi, K[i - 1][w]])\n",
    "        else:\n",
    "            K[i][w] = K[i - 1][w]\n",
    "\n",
    "# Imprime en pantalla la combinación máxima encontrada que cabe en la mochila\n",
    "print(\"Result: \", K[n - 1][W])\n",
    "\n",
    "# Muestra de forma estética la matriz final\n",
    "from pandas import *\n",
    "df = DataFrame(K)\n",
    "df.drop(0, axis = 1, inplace = True)\n",
    "df['Objeto'] = [\"Guitarra\", \"Stereo\", \"Laptop\", \"Iphone\"] # Nombre del objeto\n",
    "df.set_index('Objeto', inplace = True)\n",
    "print(df)"
   ]
  },
  {
   "cell_type": "code",
   "execution_count": 146,
   "metadata": {},
   "outputs": [
    {
     "output_type": "stream",
     "name": "stdout",
     "text": [
      "Result:  6500\nK table:\n             1     2     3     4\nObjeto                          \nGuitarra     0     0     0  3000\nStereo       0     0  2000  3000\nLaptop    1500  1500  2000  3500\nIphone    2000  3500  3500  4000\nLampara   2000  3500  5000  6500\n"
     ]
    }
   ],
   "source": [
    "item_values = [3000, 2000, 1500, 2000, 3000] # Precios\n",
    "item_weights = [4, 3, 1, 1, 2] # Peso\n",
    "\n",
    "n = len(item_weights)\n",
    "W = 4 # Capacidad de la mochila\n",
    "K = [[0 for w in range(W + 1)] for i in range(n)]\n",
    "# Recurrence\n",
    "for i in range(0, n):\n",
    "    for w in range(1, W + 1):\n",
    "        wi = item_weights[i]\n",
    "        vi = item_values[i]\n",
    "\n",
    "        if wi <= w:\n",
    "            K[i][w] = max([K[i - 1][w - wi] + vi, K[i - 1][w]])\n",
    "        else:\n",
    "            K[i][w] = K[i - 1][w]\n",
    "\n",
    "# Results\n",
    "print(\"Result: \", K[n - 1][W])\n",
    "## Optional: Uncomment to view the 2D table\n",
    "from pandas import *\n",
    "print(\"K table:\")\n",
    "df = DataFrame(K)\n",
    "df.drop(0, axis = 1, inplace = True)\n",
    "df['Objeto'] = [\"Guitarra\", \"Stereo\", \"Laptop\", \"Iphone\", \"Lampara\"] # Nombre del objeto\n",
    "df.set_index('Objeto', inplace = True)\n",
    "print(df)"
   ]
  },
  {
   "cell_type": "code",
   "execution_count": 148,
   "metadata": {},
   "outputs": [
    {
     "output_type": "stream",
     "name": "stdout",
     "text": [
      "Result:  6500\nK table:\n             1     2     3     4\nObjeto                          \nStereo       0     0     0  3000\nGuitarra  1500  1500  1500  3000\nLampara   1500  3000  4500  4500\nIphone    2000  3500  5000  6500\nLaptop    2000  3500  5000  6500\n"
     ]
    }
   ],
   "source": [
    "item_values = [3000, 1500, 3000, 2000, 2000] # Precios\n",
    "item_weights = [4, 1, 2, 1, 3] # Peso\n",
    "\n",
    "n = len(item_weights)\n",
    "W = 4 # Capacidad de la mochila\n",
    "K = [[0 for w in range(W + 1)] for i in range(n)]\n",
    "# Recurrence\n",
    "for i in range(0, n):\n",
    "  for w in range(1, W + 1):\n",
    "    wi = item_weights[i]\n",
    "    vi = item_values[i]\n",
    "\n",
    "    if wi <= w:\n",
    "      K[i][w] = max([K[i - 1][w - wi] + vi, K[i - 1][w]])\n",
    "    else:\n",
    "      K[i][w] = K[i - 1][w]\n",
    "\n",
    "# Results\n",
    "print(\"Result: \", K[n - 1][W])\n",
    "## Optional: Uncomment to view the 2D table\n",
    "from pandas import *\n",
    "print(\"K table:\")\n",
    "df = DataFrame(K)\n",
    "df.drop(0, axis = 1, inplace = True)\n",
    "df['Objeto'] = [\"Stereo\", \"Guitarra\",\"Lampara\", \"Iphone\", \"Laptop\"] # Nombre del objeto\n",
    "df.set_index('Objeto', inplace = True)\n",
    "print(df)"
   ]
  },
  {
   "cell_type": "code",
   "execution_count": null,
   "metadata": {},
   "outputs": [],
   "source": []
  }
 ]
}
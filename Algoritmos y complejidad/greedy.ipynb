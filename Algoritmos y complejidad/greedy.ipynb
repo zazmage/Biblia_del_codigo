{
 "metadata": {
  "language_info": {
   "codemirror_mode": {
    "name": "ipython",
    "version": 3
   },
   "file_extension": ".py",
   "mimetype": "text/x-python",
   "name": "python",
   "nbconvert_exporter": "python",
   "pygments_lexer": "ipython3",
   "version": "3.8.5-final"
  },
  "orig_nbformat": 2,
  "kernelspec": {
   "name": "python3",
   "display_name": "Python 3",
   "language": "python"
  }
 },
 "nbformat": 4,
 "nbformat_minor": 2,
 "cells": [
  {
   "cell_type": "code",
   "execution_count": 33,
   "metadata": {},
   "outputs": [],
   "source": [
    "# Definimos un conjunto de estados que queremos abarcar con las estaciones de radio.\n",
    "states_needed = set([\"mt\", \"wa\", \"or\", \"id\", \"nv\", \"ut\", \"ca\", \"az\"])\n",
    "\n",
    "# Para cada estación de radio definimos un conjunto de estados que dicha estación abarca y guardamos la totalidad de la información en un diccionario \"stations\".\n",
    "stations = {}\n",
    "stations[\"kone\"] = set([\"id\", \"nv\", \"ut\"])\n",
    "stations[\"ktwo\"] = set([\"wa\", \"id\", \"mt\"])\n",
    "stations[\"kthree\"] = set([\"or\", \"nv\", \"ca\"])\n",
    "stations[\"kfour\"] = set([\"nv\", \"ut\"])\n",
    "stations[\"kfive\"] = set([\"ca\", \"az\"])"
   ]
  },
  {
   "cell_type": "code",
   "execution_count": 34,
   "metadata": {},
   "outputs": [],
   "source": [
    "# Definimos un conjunto vacío que contendrá la información de las estaciones de radio elegidas al final del algoritmo.\n",
    "final_stations = set()\n",
    "\n",
    "# Este ciclo while se cumplirá hasta que se encuentrén las estaciones de rádio elegidas.\n",
    "while states_needed:\n",
    "    # Esta variable almacena la estación de radio que cubre los estados menos cubiertos.\n",
    "    best_station = None\n",
    "    # Esta variable almacena los estados que ya hemos evaluado.\n",
    "    states_covered = set()\n",
    "    for station, states in stations.items():\n",
    "        covered = states_needed & states\n",
    "        if len(covered) > len(states_covered):\n",
    "            best_station = station\n",
    "            states_covered = covered\n",
    "    states_needed -= states_covered\n",
    "    final_stations.add(best_station)\n",
    "    "
   ]
  },
  {
   "cell_type": "code",
   "execution_count": 35,
   "metadata": {},
   "outputs": [
    {
     "output_type": "execute_result",
     "data": {
      "text/plain": [
       "{'kfive', 'kone', 'kthree', 'ktwo'}"
      ]
     },
     "metadata": {},
     "execution_count": 35
    }
   ],
   "source": [
    "final_stations"
   ]
  },
  {
   "cell_type": "code",
   "execution_count": 56,
   "metadata": {},
   "outputs": [
    {
     "output_type": "stream",
     "name": "stdout",
     "text": [
      "El equipo soñado que abarca todas las habilidades es: \nhilda logana\naaron rodgers\ndaniel castano\n"
     ]
    }
   ],
   "source": [
    "habilidades_necesarias = set([\"rb\", \"wr\", \"gup\", \"qb\", \"mi\"])\n",
    "\n",
    "jugadores = {}\n",
    "jugadores[\"daniel castano\"] = set([\"rb\", \"wr\"])\n",
    "jugadores[\"matt forte\"] = set([\"rb\"])\n",
    "jugadores[\"brendan marshall\"] = set([\"wr\", \"gup\"])\n",
    "jugadores[\"aaron rodgers\"] = set([\"qb\", \"gup\"])\n",
    "jugadores[\"hilda logana\"] = set([\"mi\"])\n",
    "\n",
    "jugadores_finales = set()\n",
    "while habilidades_necesarias:\n",
    "    mejor_jugador = None\n",
    "    jugadores_evaluados = set()\n",
    "    for jugador, habilidades in jugadores.items():\n",
    "        evaluados = habilidades_necesarias & habilidades\n",
    "        if len(evaluados) > len(jugadores_evaluados):\n",
    "            mejor_jugador = jugador\n",
    "            jugadores_evaluados = evaluados\n",
    "    habilidades_necesarias -= jugadores_evaluados\n",
    "    jugadores_finales.add(mejor_jugador)\n",
    "\n",
    "print(\"El equipo soñado que abarca todas las habilidades es: \")\n",
    "for i in jugadores_finales:\n",
    "    print(i)"
   ]
  },
  {
   "cell_type": "code",
   "execution_count": 55,
   "metadata": {},
   "outputs": [
    {
     "output_type": "stream",
     "name": "stdout",
     "text": [
      "{3, 4}\n{1, 2, 3, 4, 5, 6}\n"
     ]
    }
   ],
   "source": [
    "# a y b son conjuntos como los conjuntos matemáticos y admiten las siguientes operaciones\n",
    "a = set([1,2,3,4])\n",
    "b = set([3,4,5,6])\n",
    "\n",
    "print(a & b) # Intersección\n",
    "print(a | b) # Unión"
   ]
  },
  {
   "cell_type": "code",
   "execution_count": 57,
   "metadata": {},
   "outputs": [
    {
     "output_type": "stream",
     "name": "stdout",
     "text": [
      "2 3\n6 8\n-1 3\n"
     ]
    }
   ],
   "source": [
    "# Ciclo for con más de una variable\n",
    "\n",
    "lista = [(2,3),(6,8),(-1,3)]\n",
    "\n",
    "for i,j in lista:\n",
    "    print(i,j)"
   ]
  },
  {
   "source": [
    "[] -> Listas\n",
    "\n",
    "() -> Tuplas\n",
    "\n",
    "{} -> Diccionarios o conjuntos"
   ],
   "cell_type": "markdown",
   "metadata": {}
  },
  {
   "cell_type": "code",
   "execution_count": 64,
   "metadata": {},
   "outputs": [
    {
     "output_type": "stream",
     "name": "stdout",
     "text": [
      "daniel castano {'wr', 'rb'}\nmatt forte {'rb'}\nbrendan marshall {'wr', 'gup'}\naaron rodgers {'qb', 'gup'}\nhilda logana {'mi'}\n"
     ]
    }
   ],
   "source": [
    "# La función items retorna los elementos de un diccionario en forma de una lista de tuplas con el siguiente formato [(clave, valor)]\n",
    "jugadores.items():"
   ]
  },
  {
   "cell_type": "code",
   "execution_count": null,
   "metadata": {},
   "outputs": [],
   "source": []
  }
 ]
}
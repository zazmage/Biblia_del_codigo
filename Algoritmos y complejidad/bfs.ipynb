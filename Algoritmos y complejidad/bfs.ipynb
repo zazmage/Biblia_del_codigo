{
 "metadata": {
  "language_info": {
   "codemirror_mode": {
    "name": "ipython",
    "version": 3
   },
   "file_extension": ".py",
   "mimetype": "text/x-python",
   "name": "python",
   "nbconvert_exporter": "python",
   "pygments_lexer": "ipython3",
   "version": "3.8.5-final"
  },
  "orig_nbformat": 2,
  "kernelspec": {
   "name": "python3",
   "display_name": "Python 3",
   "language": "python"
  }
 },
 "nbformat": 4,
 "nbformat_minor": 2,
 "cells": [
  {
   "cell_type": "code",
   "execution_count": 1,
   "metadata": {},
   "outputs": [],
   "source": [
    "graph = {}\n",
    "graph[\"you\"] = [\"alice\", \"bob\", \"claire\"]\n",
    "graph[\"bob\"] = [\"anuj\", \"peggy\"]\n",
    "graph[\"alice\"] = [\"peggy\"]\n",
    "graph[\"claire\"] = [\"thom\", \"jonny\"]\n",
    "graph[\"anuj\"] = []\n",
    "graph[\"peggy\"] = []\n",
    "graph[\"thom\"] = []\n",
    "graph[\"jonny\"] = []"
   ]
  },
  {
   "cell_type": "code",
   "execution_count": 2,
   "metadata": {},
   "outputs": [
    {
     "output_type": "execute_result",
     "data": {
      "text/plain": [
       "{'you': ['alice', 'bob', 'claire'],\n",
       " 'bob': ['anuj', 'peggy'],\n",
       " 'alice': ['peggy'],\n",
       " 'claire': ['thom', 'jonny'],\n",
       " 'anuj': [],\n",
       " 'peggy': [],\n",
       " 'thom': [],\n",
       " 'jonny': []}"
      ]
     },
     "metadata": {},
     "execution_count": 2
    }
   ],
   "source": [
    "graph"
   ]
  },
  {
   "cell_type": "code",
   "execution_count": 14,
   "metadata": {},
   "outputs": [],
   "source": [
    "from collections import deque\n",
    "search_queue = deque()\n",
    "search_queue += graph[\"you\"]"
   ]
  },
  {
   "cell_type": "code",
   "execution_count": 8,
   "metadata": {},
   "outputs": [],
   "source": [
    "def person_is_seller(name):\n",
    "    return name[-1] == 'm'\n",
    "\n",
    "def search(search_queue):  \n",
    "    while search_queue:\n",
    "        person = search_queue.popleft()\n",
    "        if person_is_seller(person):\n",
    "            print(person + \" is a mango seller!\")\n",
    "            return True\n",
    "        else:\n",
    "            search_queue += graph[person]\n",
    "    return False"
   ]
  },
  {
   "cell_type": "code",
   "execution_count": 9,
   "metadata": {},
   "outputs": [
    {
     "output_type": "stream",
     "name": "stdout",
     "text": [
      "thom is a mango seller!\n"
     ]
    },
    {
     "output_type": "execute_result",
     "data": {
      "text/plain": [
       "True"
      ]
     },
     "metadata": {},
     "execution_count": 9
    }
   ],
   "source": [
    "search(search_queue)"
   ]
  },
  {
   "cell_type": "code",
   "execution_count": 11,
   "metadata": {},
   "outputs": [],
   "source": [
    "def search(name):  \n",
    "    search_queue = deque()\n",
    "    search_queue += graph[name]\n",
    "    searched = []\n",
    "    while search_queue:\n",
    "        person = search_queue.popleft()\n",
    "        if not person in searched:\n",
    "            if person_is_seller(person):\n",
    "                print(person + \" is a mango seller!\")\n",
    "                return True\n",
    "            else:\n",
    "                search_queue += graph[person]\n",
    "                searched.append(person)\n",
    "    return False"
   ]
  },
  {
   "cell_type": "code",
   "execution_count": 12,
   "metadata": {},
   "outputs": [
    {
     "output_type": "stream",
     "name": "stdout",
     "text": [
      "thom is a mango seller!\n"
     ]
    },
    {
     "output_type": "execute_result",
     "data": {
      "text/plain": [
       "True"
      ]
     },
     "metadata": {},
     "execution_count": 12
    }
   ],
   "source": [
    "search(\"you\")"
   ]
  },
  {
   "cell_type": "code",
   "execution_count": 28,
   "metadata": {},
   "outputs": [
    {
     "output_type": "stream",
     "name": "stdout",
     "text": [
      "-----------------------------------\n\nyou ['alice', 'bob', 'claire']\nbob ['anuj', 'peggy']\nalice ['peggy']\nclaire ['thom', 'jonny']\nanuj []\npeggy []\nthom []\njonny []\n-----------------------------------\n\nAntes:  ['alice', 'bob', 'claire']\nDespués:  ['bob', 'claire']\nAntes:  ['bob', 'claire', 'peggy']\nDespués:  ['claire', 'peggy']\nAntes:  ['claire', 'peggy', 'anuj', 'peggy']\nDespués:  ['peggy', 'anuj', 'peggy']\nAntes:  ['peggy', 'anuj', 'peggy', 'thom', 'jonny']\nDespués:  ['anuj', 'peggy', 'thom', 'jonny']\nAntes:  ['anuj', 'peggy', 'thom', 'jonny']\nDespués:  ['peggy', 'thom', 'jonny']\nAntes:  ['peggy', 'thom', 'jonny']\nDespués:  ['thom', 'jonny']\nAntes:  ['thom', 'jonny']\nDespués:  ['jonny']\nthom is a mango seller!\n"
     ]
    },
    {
     "output_type": "execute_result",
     "data": {
      "text/plain": [
       "True"
      ]
     },
     "metadata": {},
     "execution_count": 28
    }
   ],
   "source": [
    "from collections import deque\n",
    "search_queue = deque()\n",
    "search_queue += graph[\"you\"]\n",
    "\n",
    "def person_is_seller(name):\n",
    "    return name[-1] == 'm'\n",
    "\n",
    "def search(search_queue):  \n",
    "    while search_queue:\n",
    "        print(\"Antes: \", list(search_queue))\n",
    "        person = search_queue.popleft()\n",
    "        print(\"Después: \", list(search_queue))\n",
    "        if person_is_seller(person):\n",
    "            print(person + \" is a mango seller!\")\n",
    "            return True\n",
    "        else:\n",
    "            search_queue += graph[person]\n",
    "    return False\n",
    "\n",
    "print('-'*35 + '\\n')\n",
    "for i in graph:\n",
    "    print(i,graph[i])\n",
    "print('-'*35 + '\\n')\n",
    "search(search_queue)"
   ]
  },
  {
   "cell_type": "code",
   "execution_count": 26,
   "metadata": {},
   "outputs": [
    {
     "output_type": "execute_result",
     "data": {
      "text/plain": [
       "['jonny']"
      ]
     },
     "metadata": {},
     "execution_count": 26
    }
   ],
   "source": [
    "list(search_queue)"
   ]
  },
  {
   "cell_type": "code",
   "execution_count": null,
   "metadata": {},
   "outputs": [],
   "source": []
  }
 ]
}
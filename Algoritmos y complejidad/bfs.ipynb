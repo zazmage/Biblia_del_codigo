{
 "metadata": {
  "language_info": {
   "codemirror_mode": {
    "name": "ipython",
    "version": 3
   },
   "file_extension": ".py",
   "mimetype": "text/x-python",
   "name": "python",
   "nbconvert_exporter": "python",
   "pygments_lexer": "ipython3",
   "version": "3.8.5-final"
  },
  "orig_nbformat": 2,
  "kernelspec": {
   "name": "python3",
   "display_name": "Python 3",
   "language": "python"
  }
 },
 "nbformat": 4,
 "nbformat_minor": 2,
 "cells": [
  {
   "source": [
    "## Pilas y colas (Stacks and Queues)\n",
    "\n",
    "Stacks and queues are dynamic sets in which the element removed from the set\n",
    "by the DELETE operation is prespecified."
   ],
   "cell_type": "markdown",
   "metadata": {}
  },
  {
   "source": [
    "### Pila (Stack)\n",
    "\n",
    "In a stack, the element deleted from\n",
    "the set is the one most recently inserted: the stack implements a last-in, first-out,\n",
    "or LIFO, policy.\n",
    "\n",
    "The INSERT operation on a stack is often called PUSH, and the DELETE operation, which does not take an element argument, is often called POP."
   ],
   "cell_type": "markdown",
   "metadata": {}
  },
  {
   "source": [
    "### Colas (Queues)\n",
    "\n",
    "In a queue, the element deleted is always the one that has been in the set for the longest time: the queue implements a first-in, first-out, or FIFO, policy. \n",
    "\n",
    "We call the INSERT operation on a queue ENQUEUE, and we call the DELETE operation DEQUEUE; like the stack operation POP, DEQUEUE takes no element argument.\n",
    "\n",
    "The queue has a head and a tail. When an element is enqueued, it takes its place at the tail of the queue, just as a newly arriving customer takes a place at the end of the line. The element dequeued is always the one at\n",
    "the head of the queue, like the customer at the head of the line who has waited the longest."
   ],
   "cell_type": "markdown",
   "metadata": {}
  },
  {
   "cell_type": "code",
   "execution_count": 2,
   "metadata": {},
   "outputs": [],
   "source": [
    "graph = {}\n",
    "graph[\"you\"] = [\"alice\", \"bob\", \"claire\"]\n",
    "graph[\"bob\"] = [\"anuj\", \"peggy\"]\n",
    "graph[\"alice\"] = [\"peggy\"]\n",
    "graph[\"claire\"] = [\"thom\", \"jonny\"]\n",
    "graph[\"anuj\"] = []\n",
    "graph[\"peggy\"] = []\n",
    "graph[\"thom\"] = []\n",
    "graph[\"jonny\"] = []"
   ]
  },
  {
   "cell_type": "code",
   "execution_count": 3,
   "metadata": {},
   "outputs": [
    {
     "output_type": "execute_result",
     "data": {
      "text/plain": [
       "{'you': ['alice', 'bob', 'claire'],\n",
       " 'bob': ['anuj', 'peggy'],\n",
       " 'alice': ['peggy'],\n",
       " 'claire': ['thom', 'jonny'],\n",
       " 'anuj': [],\n",
       " 'peggy': [],\n",
       " 'thom': [],\n",
       " 'jonny': []}"
      ]
     },
     "metadata": {},
     "execution_count": 3
    }
   ],
   "source": [
    "graph"
   ]
  },
  {
   "cell_type": "code",
   "execution_count": 4,
   "metadata": {},
   "outputs": [],
   "source": [
    "from collections import deque\n",
    "# En la funcion final este paso lo introducen dentro de la función\n",
    "search_queue = deque()\n",
    "search_queue += graph[\"you\"]"
   ]
  },
  {
   "cell_type": "code",
   "execution_count": 5,
   "metadata": {},
   "outputs": [],
   "source": [
    "def person_is_seller(name):\n",
    "    return name[-1] == 'm'\n",
    "\n",
    "def search(search_queue):  \n",
    "    while search_queue:\n",
    "        person = search_queue.popleft()\n",
    "        # Este if esta evaluando la función que determina si la persona es\n",
    "        # o no es un vendedor de mangos\n",
    "        if person_is_seller(person):\n",
    "            print(person + \" is a mango seller!\")\n",
    "            return True\n",
    "        else:\n",
    "            # Se están añadiendo las conexiones de la persona que no es un\n",
    "            # vendedor de mangos\n",
    "            search_queue += graph[person]\n",
    "    return False"
   ]
  },
  {
   "cell_type": "code",
   "execution_count": 6,
   "metadata": {},
   "outputs": [
    {
     "output_type": "stream",
     "name": "stdout",
     "text": [
      "thom is a mango seller!\n"
     ]
    },
    {
     "output_type": "execute_result",
     "data": {
      "text/plain": [
       "True"
      ]
     },
     "metadata": {},
     "execution_count": 6
    }
   ],
   "source": [
    "search(search_queue)"
   ]
  },
  {
   "cell_type": "code",
   "execution_count": 6,
   "metadata": {},
   "outputs": [],
   "source": [
    "# Esta función corrige el caso en que dos personas estén conectadas\n",
    "# mutuamente y evita recaer en ciclos infinitos.\n",
    "def search(name):\n",
    "    # Se están añadiendo las conexiones del nodo principal \n",
    "    # en función del argumento \"name\"\n",
    "    search_queue = deque()\n",
    "    search_queue += graph[name]\n",
    "    # Esta variable almacenará las personas que ya se hayan\n",
    "    # evaluado\n",
    "    searched = []\n",
    "    while search_queue:\n",
    "        person = search_queue.popleft()\n",
    "        # Este if determina si esta persona ya ha sido evaluada\n",
    "        # en caso de que sí, se saltará a la siguiente persona\n",
    "        # en la cola.\n",
    "        if not person in searched:\n",
    "            # Por medio de la función \"person_is_seller\" definida\n",
    "            # en la parte de arriba, este condicional determinará\n",
    "            # si la persona en cuestión es un vendedor de mangos\n",
    "            if person_is_seller(person):\n",
    "                print(person + \" is a mango seller!\")\n",
    "                return True\n",
    "            else:\n",
    "                search_queue += graph[person]\n",
    "                # Aqui se están añadiendo a la lista de \"ya evaluados\"\n",
    "                # a las personas que se determinó que no son vendedores\n",
    "                # de mango.\n",
    "                searched.append(person)\n",
    "    return False"
   ]
  },
  {
   "cell_type": "code",
   "execution_count": 8,
   "metadata": {},
   "outputs": [
    {
     "output_type": "stream",
     "name": "stdout",
     "text": [
      "thom is a mango seller!\n"
     ]
    },
    {
     "output_type": "execute_result",
     "data": {
      "text/plain": [
       "True"
      ]
     },
     "metadata": {},
     "execution_count": 8
    }
   ],
   "source": [
    "search(\"you\")"
   ]
  },
  {
   "cell_type": "code",
   "execution_count": 27,
   "metadata": {},
   "outputs": [
    {
     "output_type": "stream",
     "name": "stdout",
     "text": [
      "--------------------------------------------------\nCola antes:  ['A', 'B', 'C']\nNodo a evaluar:  A\nCola después:  ['B', 'C']\n--------------------------------------------------\n--------------------------------------------------\nCola antes:  ['B', 'C', 'D', 'E']\nNodo a evaluar:  B\nCola después:  ['C', 'D', 'E']\n--------------------------------------------------\n--------------------------------------------------\nCola antes:  ['C', 'D', 'E', 'D']\nNodo a evaluar:  C\nCola después:  ['D', 'E', 'D']\n--------------------------------------------------\n--------------------------------------------------\nCola antes:  ['D', 'E', 'D', 'FINISH']\nNodo a evaluar:  D\nCola después:  ['E', 'D', 'FINISH']\n--------------------------------------------------\n--------------------------------------------------\nCola antes:  ['E', 'D', 'FINISH', 'FINISH']\nNodo a evaluar:  E\nCola después:  ['D', 'FINISH', 'FINISH']\n--------------------------------------------------\n--------------------------------------------------\nCola antes:  ['D', 'FINISH', 'FINISH']\nNodo a evaluar:  D\nCola después:  ['FINISH', 'FINISH']\n--------------------------------------------------\n--------------------------------------------------\nCola antes:  ['FINISH', 'FINISH']\nNodo a evaluar:  FINISH\nCola después:  ['FINISH']\n--------------------------------------------------\nCamino seguido:  ['A', 'B', 'C', 'D', 'E']\n"
     ]
    },
    {
     "output_type": "execute_result",
     "data": {
      "text/plain": [
       "True"
      ]
     },
     "metadata": {},
     "execution_count": 27
    }
   ],
   "source": [
    "from collections import deque\n",
    "# En la funcion final este paso lo introducen dentro de la función\n",
    "\n",
    "def person_is_seller(name):\n",
    "    return name == 'FINISH'\n",
    "\n",
    "graph = {}\n",
    "graph[\"START\"] = [\"A\", \"B\", \"C\"]\n",
    "graph[\"A\"] = [\"D\", \"E\"]\n",
    "graph[\"B\"] = [\"D\",]\n",
    "graph[\"D\"] = [\"FINISH\"]\n",
    "graph[\"C\"] = [\"FINISH\"]\n",
    "graph[\"F\"] = []\n",
    "graph[\"E\"] = []\n",
    "\n",
    "# Esta función corrige el caso en que dos personas estén conectadas\n",
    "# mutuamente y evita recaer en ciclos infinitos.\n",
    "def search(name):\n",
    "    # Se están añadiendo las conexiones del nodo principal \n",
    "    # en función del argumento \"name\"\n",
    "    search_queue = deque()\n",
    "    search_queue += graph[name]\n",
    "    # Esta variable almacenará las personas que ya se hayan\n",
    "    # evaluado\n",
    "    searched = []\n",
    "    while search_queue:\n",
    "        print('-'*50)\n",
    "        print(\"Cola antes: \", list(search_queue))\n",
    "        person = search_queue.popleft()\n",
    "        print(\"Nodo a evaluar: \", person)\n",
    "        print(\"Cola después: \", list(search_queue))\n",
    "        print('-'*50)\n",
    "        # Este if determina si esta persona ya ha sido evaluada\n",
    "        # en caso de que sí, se saltará a la siguiente persona\n",
    "        # en la cola.\n",
    "        if not person in searched:\n",
    "            # Por medio de la función \"person_is_seller\" definida\n",
    "            # en la parte de arriba, este condicional determinará\n",
    "            # si la persona en cuestión es un vendedor de mangos\n",
    "            if person_is_seller(person):\n",
    "                print(\"Camino seguido: \", searched)\n",
    "                return True\n",
    "            else:\n",
    "                search_queue += graph[person]\n",
    "                # Aqui se están añadiendo a la lista de \"ya evaluados\"\n",
    "                # a las personas que se determinó que no son vendedores\n",
    "                # de mango.\n",
    "                searched.append(person)\n",
    "    \n",
    "    return False\n",
    "\n",
    "search('START')"
   ]
  },
  {
   "cell_type": "code",
   "execution_count": null,
   "metadata": {},
   "outputs": [],
   "source": []
  }
 ]
}